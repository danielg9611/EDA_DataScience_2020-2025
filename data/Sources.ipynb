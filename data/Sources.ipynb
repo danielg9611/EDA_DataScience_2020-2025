{
 "cells": [
  {
   "cell_type": "markdown",
   "metadata": {},
   "source": [
    "https://www.google.com/url?sa=t&rct=j&q=&esrc=s&source=web&cd=&ved=2ahUKEwiz5s6VjqqMAxWoVaQEHTzVGBgQFnoECC4QAQ&url=https%3A%2F%2Fwww.sueldos.dev%2F&usg=AOvVaw1SvTs0l7eL58AzkhC0qPXw&opi=89978449"
   ]
  }
 ],
 "metadata": {
  "language_info": {
   "name": "python"
  }
 },
 "nbformat": 4,
 "nbformat_minor": 2
}
