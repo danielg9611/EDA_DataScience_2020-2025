{
 "cells": [
  {
   "cell_type": "code",
   "execution_count": 3,
   "metadata": {},
   "outputs": [],
   "source": [
    "import numpy as np\n",
    "import pandas as pd\n",
    "import matplotlib.pyplot as plt\n",
    "import seaborn as sns"
   ]
  },
  {
   "cell_type": "code",
   "execution_count": 4,
   "metadata": {},
   "outputs": [],
   "source": [
    "jobs = pd.read_csv('../data/salaries.csv')"
   ]
  },
  {
   "cell_type": "code",
   "execution_count": 5,
   "metadata": {},
   "outputs": [
    {
     "data": {
      "application/vnd.microsoft.datawrangler.viewer.v0+json": {
       "columns": [
        {
         "name": "index",
         "rawType": "object",
         "type": "string"
        },
        {
         "name": "work_year",
         "rawType": "float64",
         "type": "float"
        },
        {
         "name": "salary",
         "rawType": "float64",
         "type": "float"
        },
        {
         "name": "salary_in_usd",
         "rawType": "float64",
         "type": "float"
        },
        {
         "name": "remote_ratio",
         "rawType": "float64",
         "type": "float"
        }
       ],
       "conversionMethod": "pd.DataFrame",
       "ref": "a8d50a4e-b2c8-4071-af08-c06ac230583f",
       "rows": [
        [
         "count",
         "1859.0",
         "1859.0",
         "1859.0",
         "1859.0"
        ],
        [
         "mean",
         "2023.996234534696",
         "202985.09682625066",
         "200224.1011296396",
         "20.306616460462614"
        ],
        [
         "std",
         "0.7101348595154798",
         "156518.69208689875",
         "77121.55082564068",
         "40.08820487883832"
        ],
        [
         "min",
         "2020.0",
         "15000.0",
         "15000.0",
         "0.0"
        ],
        [
         "25%",
         "2024.0",
         "145000.0",
         "145000.0",
         "0.0"
        ],
        [
         "50%",
         "2024.0",
         "190000.0",
         "190000.0",
         "0.0"
        ],
        [
         "75%",
         "2024.0",
         "244450.0",
         "245000.0",
         "0.0"
        ],
        [
         "max",
         "2025.0",
         "6000000.0",
         "609000.0",
         "100.0"
        ]
       ],
       "shape": {
        "columns": 4,
        "rows": 8
       }
      },
      "text/html": [
       "<div>\n",
       "<style scoped>\n",
       "    .dataframe tbody tr th:only-of-type {\n",
       "        vertical-align: middle;\n",
       "    }\n",
       "\n",
       "    .dataframe tbody tr th {\n",
       "        vertical-align: top;\n",
       "    }\n",
       "\n",
       "    .dataframe thead th {\n",
       "        text-align: right;\n",
       "    }\n",
       "</style>\n",
       "<table border=\"1\" class=\"dataframe\">\n",
       "  <thead>\n",
       "    <tr style=\"text-align: right;\">\n",
       "      <th></th>\n",
       "      <th>work_year</th>\n",
       "      <th>salary</th>\n",
       "      <th>salary_in_usd</th>\n",
       "      <th>remote_ratio</th>\n",
       "    </tr>\n",
       "  </thead>\n",
       "  <tbody>\n",
       "    <tr>\n",
       "      <th>count</th>\n",
       "      <td>1859.000000</td>\n",
       "      <td>1.859000e+03</td>\n",
       "      <td>1859.000000</td>\n",
       "      <td>1859.000000</td>\n",
       "    </tr>\n",
       "    <tr>\n",
       "      <th>mean</th>\n",
       "      <td>2023.996235</td>\n",
       "      <td>2.029851e+05</td>\n",
       "      <td>200224.101130</td>\n",
       "      <td>20.306616</td>\n",
       "    </tr>\n",
       "    <tr>\n",
       "      <th>std</th>\n",
       "      <td>0.710135</td>\n",
       "      <td>1.565187e+05</td>\n",
       "      <td>77121.550826</td>\n",
       "      <td>40.088205</td>\n",
       "    </tr>\n",
       "    <tr>\n",
       "      <th>min</th>\n",
       "      <td>2020.000000</td>\n",
       "      <td>1.500000e+04</td>\n",
       "      <td>15000.000000</td>\n",
       "      <td>0.000000</td>\n",
       "    </tr>\n",
       "    <tr>\n",
       "      <th>25%</th>\n",
       "      <td>2024.000000</td>\n",
       "      <td>1.450000e+05</td>\n",
       "      <td>145000.000000</td>\n",
       "      <td>0.000000</td>\n",
       "    </tr>\n",
       "    <tr>\n",
       "      <th>50%</th>\n",
       "      <td>2024.000000</td>\n",
       "      <td>1.900000e+05</td>\n",
       "      <td>190000.000000</td>\n",
       "      <td>0.000000</td>\n",
       "    </tr>\n",
       "    <tr>\n",
       "      <th>75%</th>\n",
       "      <td>2024.000000</td>\n",
       "      <td>2.444500e+05</td>\n",
       "      <td>245000.000000</td>\n",
       "      <td>0.000000</td>\n",
       "    </tr>\n",
       "    <tr>\n",
       "      <th>max</th>\n",
       "      <td>2025.000000</td>\n",
       "      <td>6.000000e+06</td>\n",
       "      <td>609000.000000</td>\n",
       "      <td>100.000000</td>\n",
       "    </tr>\n",
       "  </tbody>\n",
       "</table>\n",
       "</div>"
      ],
      "text/plain": [
       "         work_year        salary  salary_in_usd  remote_ratio\n",
       "count  1859.000000  1.859000e+03    1859.000000   1859.000000\n",
       "mean   2023.996235  2.029851e+05  200224.101130     20.306616\n",
       "std       0.710135  1.565187e+05   77121.550826     40.088205\n",
       "min    2020.000000  1.500000e+04   15000.000000      0.000000\n",
       "25%    2024.000000  1.450000e+05  145000.000000      0.000000\n",
       "50%    2024.000000  1.900000e+05  190000.000000      0.000000\n",
       "75%    2024.000000  2.444500e+05  245000.000000      0.000000\n",
       "max    2025.000000  6.000000e+06  609000.000000    100.000000"
      ]
     },
     "execution_count": 5,
     "metadata": {},
     "output_type": "execute_result"
    }
   ],
   "source": [
    "jobs[jobs['experience_level'] == 'EX'].describe()"
   ]
  },
  {
   "cell_type": "code",
   "execution_count": null,
   "metadata": {},
   "outputs": [
    {
     "data": {
      "text/plain": [
       "85061     15000\n",
       "16465     29706\n",
       "16464     29706\n",
       "10271     30896\n",
       "10272     30896\n",
       "          ...  \n",
       "61866    488000\n",
       "36432    490000\n",
       "52370    526400\n",
       "49626    550000\n",
       "51136    609000\n",
       "Name: salary_in_usd, Length: 1859, dtype: int64"
      ]
     },
     "execution_count": 11,
     "metadata": {},
     "output_type": "execute_result"
    }
   ],
   "source": [
    "jobs[(jobs['experience_level'] == 'EX')]"
   ]
  },
  {
   "cell_type": "code",
   "execution_count": 6,
   "metadata": {},
   "outputs": [
    {
     "data": {
      "application/vnd.microsoft.datawrangler.viewer.v0+json": {
       "columns": [
        {
         "name": "index",
         "rawType": "object",
         "type": "string"
        },
        {
         "name": "work_year",
         "rawType": "float64",
         "type": "float"
        },
        {
         "name": "salary",
         "rawType": "float64",
         "type": "float"
        },
        {
         "name": "salary_in_usd",
         "rawType": "float64",
         "type": "float"
        },
        {
         "name": "remote_ratio",
         "rawType": "float64",
         "type": "float"
        }
       ],
       "conversionMethod": "pd.DataFrame",
       "ref": "66d4a4c0-d056-4ccb-9507-4b8be38dfc0b",
       "rows": [
        [
         "count",
         "51596.0",
         "51596.0",
         "51596.0",
         "51596.0"
        ],
        [
         "mean",
         "2024.0049422435848",
         "175043.67191255136",
         "173033.65276378015",
         "24.097798278936352"
        ],
        [
         "std",
         "0.6314701300962057",
         "112891.82723475028",
         "70306.87675611865",
         "42.72333678851964"
        ],
        [
         "min",
         "2020.0",
         "16000.0",
         "15809.0",
         "0.0"
        ],
        [
         "25%",
         "2024.0",
         "123687.0",
         "123700.0",
         "0.0"
        ],
        [
         "50%",
         "2024.0",
         "161600.0",
         "161300.0",
         "0.0"
        ],
        [
         "75%",
         "2024.0",
         "210960.0",
         "210000.0",
         "0.0"
        ],
        [
         "max",
         "2025.0",
         "7500000.0",
         "750000.0",
         "100.0"
        ]
       ],
       "shape": {
        "columns": 4,
        "rows": 8
       }
      },
      "text/html": [
       "<div>\n",
       "<style scoped>\n",
       "    .dataframe tbody tr th:only-of-type {\n",
       "        vertical-align: middle;\n",
       "    }\n",
       "\n",
       "    .dataframe tbody tr th {\n",
       "        vertical-align: top;\n",
       "    }\n",
       "\n",
       "    .dataframe thead th {\n",
       "        text-align: right;\n",
       "    }\n",
       "</style>\n",
       "<table border=\"1\" class=\"dataframe\">\n",
       "  <thead>\n",
       "    <tr style=\"text-align: right;\">\n",
       "      <th></th>\n",
       "      <th>work_year</th>\n",
       "      <th>salary</th>\n",
       "      <th>salary_in_usd</th>\n",
       "      <th>remote_ratio</th>\n",
       "    </tr>\n",
       "  </thead>\n",
       "  <tbody>\n",
       "    <tr>\n",
       "      <th>count</th>\n",
       "      <td>51596.000000</td>\n",
       "      <td>5.159600e+04</td>\n",
       "      <td>51596.000000</td>\n",
       "      <td>51596.000000</td>\n",
       "    </tr>\n",
       "    <tr>\n",
       "      <th>mean</th>\n",
       "      <td>2024.004942</td>\n",
       "      <td>1.750437e+05</td>\n",
       "      <td>173033.652764</td>\n",
       "      <td>24.097798</td>\n",
       "    </tr>\n",
       "    <tr>\n",
       "      <th>std</th>\n",
       "      <td>0.631470</td>\n",
       "      <td>1.128918e+05</td>\n",
       "      <td>70306.876756</td>\n",
       "      <td>42.723337</td>\n",
       "    </tr>\n",
       "    <tr>\n",
       "      <th>min</th>\n",
       "      <td>2020.000000</td>\n",
       "      <td>1.600000e+04</td>\n",
       "      <td>15809.000000</td>\n",
       "      <td>0.000000</td>\n",
       "    </tr>\n",
       "    <tr>\n",
       "      <th>25%</th>\n",
       "      <td>2024.000000</td>\n",
       "      <td>1.236870e+05</td>\n",
       "      <td>123700.000000</td>\n",
       "      <td>0.000000</td>\n",
       "    </tr>\n",
       "    <tr>\n",
       "      <th>50%</th>\n",
       "      <td>2024.000000</td>\n",
       "      <td>1.616000e+05</td>\n",
       "      <td>161300.000000</td>\n",
       "      <td>0.000000</td>\n",
       "    </tr>\n",
       "    <tr>\n",
       "      <th>75%</th>\n",
       "      <td>2024.000000</td>\n",
       "      <td>2.109600e+05</td>\n",
       "      <td>210000.000000</td>\n",
       "      <td>0.000000</td>\n",
       "    </tr>\n",
       "    <tr>\n",
       "      <th>max</th>\n",
       "      <td>2025.000000</td>\n",
       "      <td>7.500000e+06</td>\n",
       "      <td>750000.000000</td>\n",
       "      <td>100.000000</td>\n",
       "    </tr>\n",
       "  </tbody>\n",
       "</table>\n",
       "</div>"
      ],
      "text/plain": [
       "          work_year        salary  salary_in_usd  remote_ratio\n",
       "count  51596.000000  5.159600e+04   51596.000000  51596.000000\n",
       "mean    2024.004942  1.750437e+05  173033.652764     24.097798\n",
       "std        0.631470  1.128918e+05   70306.876756     42.723337\n",
       "min     2020.000000  1.600000e+04   15809.000000      0.000000\n",
       "25%     2024.000000  1.236870e+05  123700.000000      0.000000\n",
       "50%     2024.000000  1.616000e+05  161300.000000      0.000000\n",
       "75%     2024.000000  2.109600e+05  210000.000000      0.000000\n",
       "max     2025.000000  7.500000e+06  750000.000000    100.000000"
      ]
     },
     "execution_count": 6,
     "metadata": {},
     "output_type": "execute_result"
    }
   ],
   "source": [
    "jobs[jobs['experience_level'] == 'SE'].describe()"
   ]
  },
  {
   "cell_type": "code",
   "execution_count": 7,
   "metadata": {},
   "outputs": [
    {
     "data": {
      "application/vnd.microsoft.datawrangler.viewer.v0+json": {
       "columns": [
        {
         "name": "index",
         "rawType": "object",
         "type": "string"
        },
        {
         "name": "work_year",
         "rawType": "float64",
         "type": "float"
        },
        {
         "name": "salary",
         "rawType": "float64",
         "type": "float"
        },
        {
         "name": "salary_in_usd",
         "rawType": "float64",
         "type": "float"
        },
        {
         "name": "remote_ratio",
         "rawType": "float64",
         "type": "float"
        }
       ],
       "conversionMethod": "pd.DataFrame",
       "ref": "0627f20f-a38e-4cfe-996d-9cac625c26ba",
       "rows": [
        [
         "count",
         "26748.0",
         "26748.0",
         "26748.0",
         "26748.0"
        ],
        [
         "mean",
         "2024.082361298041",
         "150374.35434425002",
         "142708.8235008225",
         "17.556452818902347"
        ],
        [
         "std",
         "0.5888242110228962",
         "298617.80562709406",
         "71619.62169489193",
         "37.9078078717628"
        ],
        [
         "min",
         "2020.0",
         "15000.0",
         "15000.0",
         "0.0"
        ],
        [
         "25%",
         "2024.0",
         "93309.0",
         "93333.0",
         "0.0"
        ],
        [
         "50%",
         "2024.0",
         "130102.0",
         "130000.0",
         "0.0"
        ],
        [
         "75%",
         "2024.0",
         "176730.0",
         "176000.0",
         "0.0"
        ],
        [
         "max",
         "2025.0",
         "30400000.0",
         "800000.0",
         "100.0"
        ]
       ],
       "shape": {
        "columns": 4,
        "rows": 8
       }
      },
      "text/html": [
       "<div>\n",
       "<style scoped>\n",
       "    .dataframe tbody tr th:only-of-type {\n",
       "        vertical-align: middle;\n",
       "    }\n",
       "\n",
       "    .dataframe tbody tr th {\n",
       "        vertical-align: top;\n",
       "    }\n",
       "\n",
       "    .dataframe thead th {\n",
       "        text-align: right;\n",
       "    }\n",
       "</style>\n",
       "<table border=\"1\" class=\"dataframe\">\n",
       "  <thead>\n",
       "    <tr style=\"text-align: right;\">\n",
       "      <th></th>\n",
       "      <th>work_year</th>\n",
       "      <th>salary</th>\n",
       "      <th>salary_in_usd</th>\n",
       "      <th>remote_ratio</th>\n",
       "    </tr>\n",
       "  </thead>\n",
       "  <tbody>\n",
       "    <tr>\n",
       "      <th>count</th>\n",
       "      <td>26748.000000</td>\n",
       "      <td>2.674800e+04</td>\n",
       "      <td>26748.000000</td>\n",
       "      <td>26748.000000</td>\n",
       "    </tr>\n",
       "    <tr>\n",
       "      <th>mean</th>\n",
       "      <td>2024.082361</td>\n",
       "      <td>1.503744e+05</td>\n",
       "      <td>142708.823501</td>\n",
       "      <td>17.556453</td>\n",
       "    </tr>\n",
       "    <tr>\n",
       "      <th>std</th>\n",
       "      <td>0.588824</td>\n",
       "      <td>2.986178e+05</td>\n",
       "      <td>71619.621695</td>\n",
       "      <td>37.907808</td>\n",
       "    </tr>\n",
       "    <tr>\n",
       "      <th>min</th>\n",
       "      <td>2020.000000</td>\n",
       "      <td>1.500000e+04</td>\n",
       "      <td>15000.000000</td>\n",
       "      <td>0.000000</td>\n",
       "    </tr>\n",
       "    <tr>\n",
       "      <th>25%</th>\n",
       "      <td>2024.000000</td>\n",
       "      <td>9.330900e+04</td>\n",
       "      <td>93333.000000</td>\n",
       "      <td>0.000000</td>\n",
       "    </tr>\n",
       "    <tr>\n",
       "      <th>50%</th>\n",
       "      <td>2024.000000</td>\n",
       "      <td>1.301020e+05</td>\n",
       "      <td>130000.000000</td>\n",
       "      <td>0.000000</td>\n",
       "    </tr>\n",
       "    <tr>\n",
       "      <th>75%</th>\n",
       "      <td>2024.000000</td>\n",
       "      <td>1.767300e+05</td>\n",
       "      <td>176000.000000</td>\n",
       "      <td>0.000000</td>\n",
       "    </tr>\n",
       "    <tr>\n",
       "      <th>max</th>\n",
       "      <td>2025.000000</td>\n",
       "      <td>3.040000e+07</td>\n",
       "      <td>800000.000000</td>\n",
       "      <td>100.000000</td>\n",
       "    </tr>\n",
       "  </tbody>\n",
       "</table>\n",
       "</div>"
      ],
      "text/plain": [
       "          work_year        salary  salary_in_usd  remote_ratio\n",
       "count  26748.000000  2.674800e+04   26748.000000  26748.000000\n",
       "mean    2024.082361  1.503744e+05  142708.823501     17.556453\n",
       "std        0.588824  2.986178e+05   71619.621695     37.907808\n",
       "min     2020.000000  1.500000e+04   15000.000000      0.000000\n",
       "25%     2024.000000  9.330900e+04   93333.000000      0.000000\n",
       "50%     2024.000000  1.301020e+05  130000.000000      0.000000\n",
       "75%     2024.000000  1.767300e+05  176000.000000      0.000000\n",
       "max     2025.000000  3.040000e+07  800000.000000    100.000000"
      ]
     },
     "execution_count": 7,
     "metadata": {},
     "output_type": "execute_result"
    }
   ],
   "source": [
    "jobs[jobs['experience_level'] == 'MI'].describe()"
   ]
  },
  {
   "cell_type": "code",
   "execution_count": 8,
   "metadata": {},
   "outputs": [
    {
     "data": {
      "application/vnd.microsoft.datawrangler.viewer.v0+json": {
       "columns": [
        {
         "name": "index",
         "rawType": "object",
         "type": "string"
        },
        {
         "name": "work_year",
         "rawType": "float64",
         "type": "float"
        },
        {
         "name": "salary",
         "rawType": "float64",
         "type": "float"
        },
        {
         "name": "salary_in_usd",
         "rawType": "float64",
         "type": "float"
        },
        {
         "name": "remote_ratio",
         "rawType": "float64",
         "type": "float"
        }
       ],
       "conversionMethod": "pd.DataFrame",
       "ref": "32919129-1e9c-411e-9b37-1f01fba2e12c",
       "rows": [
        [
         "count",
         "8381.0",
         "8381.0",
         "8381.0",
         "8381.0"
        ],
        [
         "mean",
         "2024.0749313924352",
         "108995.84560314998",
         "100316.10690848347",
         "16.095931273117767"
        ],
        [
         "std",
         "0.6164939637538606",
         "187388.4108882756",
         "56311.08859702188",
         "36.3598083717136"
        ],
        [
         "min",
         "2020.0",
         "14000.0",
         "15000.0",
         "0.0"
        ],
        [
         "25%",
         "2024.0",
         "62400.0",
         "62847.0",
         "0.0"
        ],
        [
         "50%",
         "2024.0",
         "88200.0",
         "87943.0",
         "0.0"
        ],
        [
         "75%",
         "2024.0",
         "128250.0",
         "126000.0",
         "0.0"
        ],
        [
         "max",
         "2025.0",
         "6600000.0",
         "793136.0",
         "100.0"
        ]
       ],
       "shape": {
        "columns": 4,
        "rows": 8
       }
      },
      "text/html": [
       "<div>\n",
       "<style scoped>\n",
       "    .dataframe tbody tr th:only-of-type {\n",
       "        vertical-align: middle;\n",
       "    }\n",
       "\n",
       "    .dataframe tbody tr th {\n",
       "        vertical-align: top;\n",
       "    }\n",
       "\n",
       "    .dataframe thead th {\n",
       "        text-align: right;\n",
       "    }\n",
       "</style>\n",
       "<table border=\"1\" class=\"dataframe\">\n",
       "  <thead>\n",
       "    <tr style=\"text-align: right;\">\n",
       "      <th></th>\n",
       "      <th>work_year</th>\n",
       "      <th>salary</th>\n",
       "      <th>salary_in_usd</th>\n",
       "      <th>remote_ratio</th>\n",
       "    </tr>\n",
       "  </thead>\n",
       "  <tbody>\n",
       "    <tr>\n",
       "      <th>count</th>\n",
       "      <td>8381.000000</td>\n",
       "      <td>8.381000e+03</td>\n",
       "      <td>8381.000000</td>\n",
       "      <td>8381.000000</td>\n",
       "    </tr>\n",
       "    <tr>\n",
       "      <th>mean</th>\n",
       "      <td>2024.074931</td>\n",
       "      <td>1.089958e+05</td>\n",
       "      <td>100316.106908</td>\n",
       "      <td>16.095931</td>\n",
       "    </tr>\n",
       "    <tr>\n",
       "      <th>std</th>\n",
       "      <td>0.616494</td>\n",
       "      <td>1.873884e+05</td>\n",
       "      <td>56311.088597</td>\n",
       "      <td>36.359808</td>\n",
       "    </tr>\n",
       "    <tr>\n",
       "      <th>min</th>\n",
       "      <td>2020.000000</td>\n",
       "      <td>1.400000e+04</td>\n",
       "      <td>15000.000000</td>\n",
       "      <td>0.000000</td>\n",
       "    </tr>\n",
       "    <tr>\n",
       "      <th>25%</th>\n",
       "      <td>2024.000000</td>\n",
       "      <td>6.240000e+04</td>\n",
       "      <td>62847.000000</td>\n",
       "      <td>0.000000</td>\n",
       "    </tr>\n",
       "    <tr>\n",
       "      <th>50%</th>\n",
       "      <td>2024.000000</td>\n",
       "      <td>8.820000e+04</td>\n",
       "      <td>87943.000000</td>\n",
       "      <td>0.000000</td>\n",
       "    </tr>\n",
       "    <tr>\n",
       "      <th>75%</th>\n",
       "      <td>2024.000000</td>\n",
       "      <td>1.282500e+05</td>\n",
       "      <td>126000.000000</td>\n",
       "      <td>0.000000</td>\n",
       "    </tr>\n",
       "    <tr>\n",
       "      <th>max</th>\n",
       "      <td>2025.000000</td>\n",
       "      <td>6.600000e+06</td>\n",
       "      <td>793136.000000</td>\n",
       "      <td>100.000000</td>\n",
       "    </tr>\n",
       "  </tbody>\n",
       "</table>\n",
       "</div>"
      ],
      "text/plain": [
       "         work_year        salary  salary_in_usd  remote_ratio\n",
       "count  8381.000000  8.381000e+03    8381.000000   8381.000000\n",
       "mean   2024.074931  1.089958e+05  100316.106908     16.095931\n",
       "std       0.616494  1.873884e+05   56311.088597     36.359808\n",
       "min    2020.000000  1.400000e+04   15000.000000      0.000000\n",
       "25%    2024.000000  6.240000e+04   62847.000000      0.000000\n",
       "50%    2024.000000  8.820000e+04   87943.000000      0.000000\n",
       "75%    2024.000000  1.282500e+05  126000.000000      0.000000\n",
       "max    2025.000000  6.600000e+06  793136.000000    100.000000"
      ]
     },
     "execution_count": 8,
     "metadata": {},
     "output_type": "execute_result"
    }
   ],
   "source": [
    "jobs[jobs['experience_level'] == 'EN'].describe()"
   ]
  },
  {
   "cell_type": "code",
   "execution_count": null,
   "metadata": {},
   "outputs": [],
   "source": []
  }
 ],
 "metadata": {
  "kernelspec": {
   "display_name": "Python 3",
   "language": "python",
   "name": "python3"
  },
  "language_info": {
   "codemirror_mode": {
    "name": "ipython",
    "version": 3
   },
   "file_extension": ".py",
   "mimetype": "text/x-python",
   "name": "python",
   "nbconvert_exporter": "python",
   "pygments_lexer": "ipython3",
   "version": "3.13.1"
  }
 },
 "nbformat": 4,
 "nbformat_minor": 2
}
