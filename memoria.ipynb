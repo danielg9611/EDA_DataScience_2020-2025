{
 "cells": [
  {
   "cell_type": "markdown",
   "metadata": {},
   "source": [
    "# **Analisis de Empleabilidad y Salarios del Sector de DataScience 2020-2025**"
   ]
  },
  {
   "cell_type": "markdown",
   "metadata": {},
   "source": [
    "<image src=\"img/dataset-cover.jpg\">\n",
    "\n",
    "_____"
   ]
  },
  {
   "cell_type": "markdown",
   "metadata": {},
   "source": [
    "## **TEMA**"
   ]
  },
  {
   "cell_type": "markdown",
   "metadata": {},
   "source": [
    "Este proyecto se centra en realizar un Análisis Exploratorio de Datos (EDA) para descubrir datos de interes, patrones y tendencias en las ofertas de trabajo realacionadas con los datos recojidas en el DataSet.\n",
    "El objetivo es comprender las necesidades y puntos fuertes del sector para asi resolver dudas de trabajadores y sobre todo de estudiantes siendo asi un factor de cierre en ventas de cursos al resolver un numero de dudas con respecto al sector."
   ]
  },
  {
   "cell_type": "markdown",
   "metadata": {},
   "source": [
    "## **HIPOTESIS**"
   ]
  },
  {
   "cell_type": "markdown",
   "metadata": {},
   "source": [
    "- La demanda de empleos relacionados con los datos a aumentado en los ultimos años y muestra indicios de seguir aumentando\n",
    "- Los salarios tienden a superar la mediana de la poblacion. Alrededor de que porciento de la poblacion (percentiles) se encuentran los salarios?\n",
    "- En el sector se aprecia un alto inidice de empleos remotos o hibridos que va en aumento con el paso de los años\n",
    "- Estados unidos se corona como el pais donde mas demanda del sector hay. En Europa la mayoria de empleos se encontraran en paises como Inglaterra y Alemania, y España estara entre los 10 primeros\n",
    "- Las empresas grandes no son necesariamente las que mejor pagan. Cual es la relacion entre la experiencia de trabajo y la demanda de esta segun el tamaño de la empresa?. A que tipo de empresa es mas coveniente ir segun la experiencia en el sector?"
   ]
  },
  {
   "cell_type": "markdown",
   "metadata": {},
   "source": [
    "## **OBTENCION DE LOS DATOS**"
   ]
  },
  {
   "cell_type": "markdown",
   "metadata": {},
   "source": [
    "### __FUENTES__   \n",
    "- Kaggle: The AI, ML, Data Science Salary (2020- 2025) DataSet - [ [Link](https://www.kaggle.com/datasets/samithsachidanandan/the-global-ai-ml-data-science-salary-for-2025) ]\n",
    "- stack***overflow*** : 2024 Developer Survey - [ [Link](https://survey.stackoverflow.co/2024/work/) ]\n",
    "- Manfred : Tech Career Report - **$**.alarios - [ [Link](https://www.getmanfred.com/blog/tech-career-report-alarios) ]"
   ]
  },
  {
   "cell_type": "markdown",
   "metadata": {},
   "source": [
    "### **IMPORTACION DE LIBRERIAS**"
   ]
  },
  {
   "cell_type": "code",
   "execution_count": 165,
   "metadata": {},
   "outputs": [],
   "source": [
    "import pandas as pd\n",
    "import matplotlib.pyplot as plt\n",
    "import seaborn as sns\n"
   ]
  },
  {
   "cell_type": "markdown",
   "metadata": {},
   "source": [
    "## **DATA UNDERSTANDING**"
   ]
  },
  {
   "cell_type": "markdown",
   "metadata": {},
   "source": [
    "### __Muestra de las primeras 10 entradas del DataSet__   "
   ]
  },
  {
   "cell_type": "code",
   "execution_count": 166,
   "metadata": {},
   "outputs": [
    {
     "data": {
      "text/html": [
       "<div>\n",
       "<style scoped>\n",
       "    .dataframe tbody tr th:only-of-type {\n",
       "        vertical-align: middle;\n",
       "    }\n",
       "\n",
       "    .dataframe tbody tr th {\n",
       "        vertical-align: top;\n",
       "    }\n",
       "\n",
       "    .dataframe thead th {\n",
       "        text-align: right;\n",
       "    }\n",
       "</style>\n",
       "<table border=\"1\" class=\"dataframe\">\n",
       "  <thead>\n",
       "    <tr style=\"text-align: right;\">\n",
       "      <th></th>\n",
       "      <th>work_year</th>\n",
       "      <th>experience_level</th>\n",
       "      <th>employment_type</th>\n",
       "      <th>job_title</th>\n",
       "      <th>salary</th>\n",
       "      <th>salary_currency</th>\n",
       "      <th>salary_in_usd</th>\n",
       "      <th>employee_residence</th>\n",
       "      <th>remote_ratio</th>\n",
       "      <th>company_location</th>\n",
       "      <th>company_size</th>\n",
       "    </tr>\n",
       "  </thead>\n",
       "  <tbody>\n",
       "    <tr>\n",
       "      <th>0</th>\n",
       "      <td>2025</td>\n",
       "      <td>MI</td>\n",
       "      <td>FT</td>\n",
       "      <td>Customer Success Manager</td>\n",
       "      <td>57000</td>\n",
       "      <td>EUR</td>\n",
       "      <td>60000</td>\n",
       "      <td>NL</td>\n",
       "      <td>50</td>\n",
       "      <td>NL</td>\n",
       "      <td>L</td>\n",
       "    </tr>\n",
       "    <tr>\n",
       "      <th>1</th>\n",
       "      <td>2025</td>\n",
       "      <td>SE</td>\n",
       "      <td>FT</td>\n",
       "      <td>Engineer</td>\n",
       "      <td>165000</td>\n",
       "      <td>USD</td>\n",
       "      <td>165000</td>\n",
       "      <td>US</td>\n",
       "      <td>0</td>\n",
       "      <td>US</td>\n",
       "      <td>M</td>\n",
       "    </tr>\n",
       "    <tr>\n",
       "      <th>2</th>\n",
       "      <td>2025</td>\n",
       "      <td>SE</td>\n",
       "      <td>FT</td>\n",
       "      <td>Engineer</td>\n",
       "      <td>109000</td>\n",
       "      <td>USD</td>\n",
       "      <td>109000</td>\n",
       "      <td>US</td>\n",
       "      <td>0</td>\n",
       "      <td>US</td>\n",
       "      <td>M</td>\n",
       "    </tr>\n",
       "    <tr>\n",
       "      <th>3</th>\n",
       "      <td>2025</td>\n",
       "      <td>SE</td>\n",
       "      <td>FT</td>\n",
       "      <td>Applied Scientist</td>\n",
       "      <td>294000</td>\n",
       "      <td>USD</td>\n",
       "      <td>294000</td>\n",
       "      <td>US</td>\n",
       "      <td>0</td>\n",
       "      <td>US</td>\n",
       "      <td>M</td>\n",
       "    </tr>\n",
       "    <tr>\n",
       "      <th>4</th>\n",
       "      <td>2025</td>\n",
       "      <td>SE</td>\n",
       "      <td>FT</td>\n",
       "      <td>Applied Scientist</td>\n",
       "      <td>137600</td>\n",
       "      <td>USD</td>\n",
       "      <td>137600</td>\n",
       "      <td>US</td>\n",
       "      <td>0</td>\n",
       "      <td>US</td>\n",
       "      <td>M</td>\n",
       "    </tr>\n",
       "    <tr>\n",
       "      <th>5</th>\n",
       "      <td>2025</td>\n",
       "      <td>EN</td>\n",
       "      <td>FT</td>\n",
       "      <td>Data Analyst</td>\n",
       "      <td>82000</td>\n",
       "      <td>USD</td>\n",
       "      <td>82000</td>\n",
       "      <td>US</td>\n",
       "      <td>0</td>\n",
       "      <td>US</td>\n",
       "      <td>M</td>\n",
       "    </tr>\n",
       "    <tr>\n",
       "      <th>6</th>\n",
       "      <td>2025</td>\n",
       "      <td>EN</td>\n",
       "      <td>FT</td>\n",
       "      <td>Data Analyst</td>\n",
       "      <td>44000</td>\n",
       "      <td>USD</td>\n",
       "      <td>44000</td>\n",
       "      <td>US</td>\n",
       "      <td>0</td>\n",
       "      <td>US</td>\n",
       "      <td>M</td>\n",
       "    </tr>\n",
       "    <tr>\n",
       "      <th>7</th>\n",
       "      <td>2025</td>\n",
       "      <td>SE</td>\n",
       "      <td>FT</td>\n",
       "      <td>Software Development Engineer</td>\n",
       "      <td>149800</td>\n",
       "      <td>USD</td>\n",
       "      <td>149800</td>\n",
       "      <td>US</td>\n",
       "      <td>0</td>\n",
       "      <td>US</td>\n",
       "      <td>L</td>\n",
       "    </tr>\n",
       "    <tr>\n",
       "      <th>8</th>\n",
       "      <td>2025</td>\n",
       "      <td>SE</td>\n",
       "      <td>FT</td>\n",
       "      <td>Software Development Engineer</td>\n",
       "      <td>89700</td>\n",
       "      <td>USD</td>\n",
       "      <td>89700</td>\n",
       "      <td>US</td>\n",
       "      <td>0</td>\n",
       "      <td>US</td>\n",
       "      <td>L</td>\n",
       "    </tr>\n",
       "    <tr>\n",
       "      <th>9</th>\n",
       "      <td>2025</td>\n",
       "      <td>SE</td>\n",
       "      <td>FT</td>\n",
       "      <td>Research Scientist</td>\n",
       "      <td>200000</td>\n",
       "      <td>USD</td>\n",
       "      <td>200000</td>\n",
       "      <td>US</td>\n",
       "      <td>0</td>\n",
       "      <td>US</td>\n",
       "      <td>M</td>\n",
       "    </tr>\n",
       "  </tbody>\n",
       "</table>\n",
       "</div>"
      ],
      "text/plain": [
       "   work_year experience_level employment_type                      job_title  \\\n",
       "0       2025               MI              FT       Customer Success Manager   \n",
       "1       2025               SE              FT                       Engineer   \n",
       "2       2025               SE              FT                       Engineer   \n",
       "3       2025               SE              FT              Applied Scientist   \n",
       "4       2025               SE              FT              Applied Scientist   \n",
       "5       2025               EN              FT                   Data Analyst   \n",
       "6       2025               EN              FT                   Data Analyst   \n",
       "7       2025               SE              FT  Software Development Engineer   \n",
       "8       2025               SE              FT  Software Development Engineer   \n",
       "9       2025               SE              FT             Research Scientist   \n",
       "\n",
       "   salary salary_currency  salary_in_usd employee_residence  remote_ratio  \\\n",
       "0   57000             EUR          60000                 NL            50   \n",
       "1  165000             USD         165000                 US             0   \n",
       "2  109000             USD         109000                 US             0   \n",
       "3  294000             USD         294000                 US             0   \n",
       "4  137600             USD         137600                 US             0   \n",
       "5   82000             USD          82000                 US             0   \n",
       "6   44000             USD          44000                 US             0   \n",
       "7  149800             USD         149800                 US             0   \n",
       "8   89700             USD          89700                 US             0   \n",
       "9  200000             USD         200000                 US             0   \n",
       "\n",
       "  company_location company_size  \n",
       "0               NL            L  \n",
       "1               US            M  \n",
       "2               US            M  \n",
       "3               US            M  \n",
       "4               US            M  \n",
       "5               US            M  \n",
       "6               US            M  \n",
       "7               US            L  \n",
       "8               US            L  \n",
       "9               US            M  "
      ]
     },
     "execution_count": 166,
     "metadata": {},
     "output_type": "execute_result"
    }
   ],
   "source": [
    "jobs = pd.read_csv('./data/salaries.csv')\n",
    "jobs.head(10)"
   ]
  },
  {
   "cell_type": "markdown",
   "metadata": {},
   "source": [
    "### __Muestra de infromacion general del DataSet__   "
   ]
  },
  {
   "cell_type": "code",
   "execution_count": 167,
   "metadata": {},
   "outputs": [
    {
     "name": "stdout",
     "output_type": "stream",
     "text": [
      "<class 'pandas.core.frame.DataFrame'>\n",
      "RangeIndex: 88584 entries, 0 to 88583\n",
      "Data columns (total 11 columns):\n",
      " #   Column              Non-Null Count  Dtype \n",
      "---  ------              --------------  ----- \n",
      " 0   work_year           88584 non-null  int64 \n",
      " 1   experience_level    88584 non-null  object\n",
      " 2   employment_type     88584 non-null  object\n",
      " 3   job_title           88584 non-null  object\n",
      " 4   salary              88584 non-null  int64 \n",
      " 5   salary_currency     88584 non-null  object\n",
      " 6   salary_in_usd       88584 non-null  int64 \n",
      " 7   employee_residence  88584 non-null  object\n",
      " 8   remote_ratio        88584 non-null  int64 \n",
      " 9   company_location    88584 non-null  object\n",
      " 10  company_size        88584 non-null  object\n",
      "dtypes: int64(4), object(7)\n",
      "memory usage: 7.4+ MB\n"
     ]
    }
   ],
   "source": [
    "jobs.info()"
   ]
  },
  {
   "cell_type": "markdown",
   "metadata": {},
   "source": [
    "### __Muestra de datos estadisticos generales del DataSet__   "
   ]
  },
  {
   "cell_type": "code",
   "execution_count": 168,
   "metadata": {},
   "outputs": [
    {
     "data": {
      "text/html": [
       "<div>\n",
       "<style scoped>\n",
       "    .dataframe tbody tr th:only-of-type {\n",
       "        vertical-align: middle;\n",
       "    }\n",
       "\n",
       "    .dataframe tbody tr th {\n",
       "        vertical-align: top;\n",
       "    }\n",
       "\n",
       "    .dataframe thead th {\n",
       "        text-align: right;\n",
       "    }\n",
       "</style>\n",
       "<table border=\"1\" class=\"dataframe\">\n",
       "  <thead>\n",
       "    <tr style=\"text-align: right;\">\n",
       "      <th></th>\n",
       "      <th>work_year</th>\n",
       "      <th>salary</th>\n",
       "      <th>salary_in_usd</th>\n",
       "      <th>remote_ratio</th>\n",
       "    </tr>\n",
       "  </thead>\n",
       "  <tbody>\n",
       "    <tr>\n",
       "      <th>count</th>\n",
       "      <td>88584.0</td>\n",
       "      <td>88584.0</td>\n",
       "      <td>88584.0</td>\n",
       "      <td>88584.0</td>\n",
       "    </tr>\n",
       "    <tr>\n",
       "      <th>mean</th>\n",
       "      <td>2024.0</td>\n",
       "      <td>161932.0</td>\n",
       "      <td>157568.0</td>\n",
       "      <td>21.0</td>\n",
       "    </tr>\n",
       "    <tr>\n",
       "      <th>std</th>\n",
       "      <td>1.0</td>\n",
       "      <td>196532.0</td>\n",
       "      <td>73531.0</td>\n",
       "      <td>41.0</td>\n",
       "    </tr>\n",
       "    <tr>\n",
       "      <th>min</th>\n",
       "      <td>2020.0</td>\n",
       "      <td>14000.0</td>\n",
       "      <td>15000.0</td>\n",
       "      <td>0.0</td>\n",
       "    </tr>\n",
       "    <tr>\n",
       "      <th>25%</th>\n",
       "      <td>2024.0</td>\n",
       "      <td>106000.0</td>\n",
       "      <td>106097.0</td>\n",
       "      <td>0.0</td>\n",
       "    </tr>\n",
       "    <tr>\n",
       "      <th>50%</th>\n",
       "      <td>2024.0</td>\n",
       "      <td>147000.0</td>\n",
       "      <td>146307.0</td>\n",
       "      <td>0.0</td>\n",
       "    </tr>\n",
       "    <tr>\n",
       "      <th>75%</th>\n",
       "      <td>2024.0</td>\n",
       "      <td>199500.0</td>\n",
       "      <td>198600.0</td>\n",
       "      <td>0.0</td>\n",
       "    </tr>\n",
       "    <tr>\n",
       "      <th>max</th>\n",
       "      <td>2025.0</td>\n",
       "      <td>30400000.0</td>\n",
       "      <td>800000.0</td>\n",
       "      <td>100.0</td>\n",
       "    </tr>\n",
       "  </tbody>\n",
       "</table>\n",
       "</div>"
      ],
      "text/plain": [
       "       work_year      salary  salary_in_usd  remote_ratio\n",
       "count    88584.0     88584.0        88584.0       88584.0\n",
       "mean      2024.0    161932.0       157568.0          21.0\n",
       "std          1.0    196532.0        73531.0          41.0\n",
       "min       2020.0     14000.0        15000.0           0.0\n",
       "25%       2024.0    106000.0       106097.0           0.0\n",
       "50%       2024.0    147000.0       146307.0           0.0\n",
       "75%       2024.0    199500.0       198600.0           0.0\n",
       "max       2025.0  30400000.0       800000.0         100.0"
      ]
     },
     "execution_count": 168,
     "metadata": {},
     "output_type": "execute_result"
    }
   ],
   "source": [
    "jobs.describe().round()"
   ]
  },
  {
   "cell_type": "code",
   "execution_count": 169,
   "metadata": {},
   "outputs": [
    {
     "data": {
      "text/plain": [
       "True     57669\n",
       "False    30915\n",
       "Name: count, dtype: int64"
      ]
     },
     "execution_count": 169,
     "metadata": {},
     "output_type": "execute_result"
    }
   ],
   "source": [
    "jobs.duplicated(keep=False).value_counts()"
   ]
  },
  {
   "cell_type": "markdown",
   "metadata": {},
   "source": [
    "## **DATA CLEANIG**"
   ]
  },
  {
   "cell_type": "markdown",
   "metadata": {},
   "source": [
    "### __Eliminacion de puestos no relacionados con Data Science__"
   ]
  },
  {
   "cell_type": "code",
   "execution_count": 170,
   "metadata": {},
   "outputs": [],
   "source": [
    "key_words = ('Data','Machine Learning', 'Analyst', 'Analysis', 'Analytics','Bussiness Intelligence', 'AI', 'BI', 'Decision Scientist','Computer Vision', 'NLP', 'ML', 'Artificial Intelligence','Deep Learning', 'ETL')\n",
    "\n",
    "jobs = jobs[jobs['job_title'].str.contains('|'.join(key_words))]\n"
   ]
  },
  {
   "cell_type": "markdown",
   "metadata": {},
   "source": [
    "### __Comprobar que todos los puestos filtrados esten relacionados con Data Science__"
   ]
  },
  {
   "cell_type": "code",
   "execution_count": 171,
   "metadata": {},
   "outputs": [
    {
     "name": "stdout",
     "output_type": "stream",
     "text": [
      "['Data Analyst' 'Data Scientist' 'AI Data Scientist'\n",
      " 'Admin & Data Analyst' 'Data Management Specialist' 'Data Product Owner'\n",
      " 'Machine Learning Engineer' 'Data Engineer' 'Data Operations Engineer'\n",
      " 'Analytics Engineer' 'Analyst' 'Actuarial Analyst' 'BI Analyst'\n",
      " 'AI Engineer' 'Data Governance Analyst' 'Business Intelligence Analyst'\n",
      " 'Data Management Analyst' 'Data and Reporting Analyst'\n",
      " 'Data Reporting Analyst' 'Data Architect' 'Data Manager' 'Data Reporter'\n",
      " 'Data Governance' 'Database Administrator' 'Product Analyst'\n",
      " 'Data Specialist' 'BI Developer' 'Machine Learning Scientist'\n",
      " 'Insight Analyst' 'Data Analytics Manager' 'Data Modeler'\n",
      " 'Data Platform Engineer' 'AI Researcher' 'Data Developer'\n",
      " 'Quantitative Analyst' 'Head of AI' 'Data Visualization Analyst'\n",
      " 'Analytics Specialist' 'Head of Data' 'AI Governance Lead'\n",
      " 'Director of Machine Learning' 'AI Architect' 'DataOps Engineer'\n",
      " 'Data Governance Specialist' 'Data Visualization Engineer' 'AI Developer'\n",
      " 'Data Governance Lead' 'Business Analyst' 'Computer Vision Engineer'\n",
      " 'Data Governance Manager' 'Data Operations' 'Data Strategist'\n",
      " 'Data Quality Specialist' 'Data and Reporting Professional'\n",
      " 'Cloud Database Engineer' 'Data Integration Engineer' 'Research Analyst'\n",
      " 'AI Data Engineer' 'ETL Developer' 'AI Specialist' 'Data Integrator'\n",
      " 'Data Lead' 'Encounter Data Management Professional' 'Power BI Developer'\n",
      " 'AI Product Owner' 'Data Operations Specialist' 'Master Data Management'\n",
      " 'Data Analytics Specialist' 'MLOps Engineer' 'Data Product Manager'\n",
      " 'AI Research Scientist' 'Data Operations Analyst' 'Data Team Lead'\n",
      " 'Data Infrastructure Engineer' 'Big Data Developer' 'BI Engineer'\n",
      " 'Data Visualization Specialist' 'Machine Learning Researcher' 'Power BI'\n",
      " 'AI Scientist' 'Staff Data Scientist' 'Decision Scientist'\n",
      " 'Cloud Database Administrator' 'AI Machine Learning Engineer'\n",
      " 'Data Integrity Specialist' 'Power BI Specialist' 'Analytics Lead'\n",
      " 'GenAI Architect' 'Lead Data Analysis' 'Data Management Associate'\n",
      " 'Data Integration Specialist' 'Lead Analyst' 'Head of Machine Learning'\n",
      " 'Data Management Lead' 'Data Analytics Consultant' 'Data Quality Analyst'\n",
      " 'Data Visualization Developer' 'Machine Learning Developer'\n",
      " 'Data Strategy Lead' 'Data Scientist Associate' 'Data Quality Lead'\n",
      " 'Data Analytics Lead' 'Risk Analyst' 'Data Reporting Specialist'\n",
      " 'Clinical Data Operator' 'AI Lead' 'Machine Learning Specialist'\n",
      " 'Research Data Manager' 'Lead Data Management' 'Data Analytics Developer'\n",
      " 'Machine Learning Architect' 'Machine Learning Lead'\n",
      " 'Data Quality Engineer' 'Data Integration Analyst'\n",
      " 'Safety Data Management Specialist' 'Data Operations Manager'\n",
      " 'Big Data Analyst' 'Data Scientist Manager' 'Pricing Analyst'\n",
      " 'Lead Data Engineer' 'AI Engineering Manager'\n",
      " 'Data Management Coordinator' 'Analytics Analyst'\n",
      " 'Machine Learning Tech Lead' 'Data Management Consultant'\n",
      " 'Power BI Administrator' 'Data Integration Developer'\n",
      " 'Data Integrity Analyst' 'Platform Data Engineer'\n",
      " 'Artificial Intelligence Engineer' 'Data Governance Architect'\n",
      " 'Power BI Consultant' 'AI Product Manager' 'Data Operations Associate'\n",
      " 'ML Infrastructure Engineer' 'Data Operations Lead'\n",
      " 'Machine Learning Quality Engineer' 'Databricks Engineer'\n",
      " 'Big Data Engineer' 'Machine Learning Performance Engineer'\n",
      " 'Data Analytics Associate' 'Power BI Architect'\n",
      " 'Machine Learning Platform Engineer' 'AI Solution Architect'\n",
      " 'Data Scientist Lead' 'Data Governance Engineer'\n",
      " 'Machine Learning Model Engineer' 'Marketing Analyst'\n",
      " 'Data Management Manager' 'Marketing Analytics Manager'\n",
      " 'Applied AI ML Lead' 'Data Strategy Manager' 'Machine Learning Manager'\n",
      " 'Data Product Analyst' 'Data Quality Manager'\n",
      " 'Machine Learning Infrastructure Engineer' 'People Data Analyst'\n",
      " 'NLP Engineer' 'Data Analytics Team Lead' 'Machine Learning Modeler'\n",
      " 'Data Integration Coordinator' 'AI Programmer' 'ETL Engineer'\n",
      " 'AI Research Engineer' 'AI Software Engineer' 'Lead AI Engineer'\n",
      " 'AI Software Development Engineer' 'Master Data Specialist'\n",
      " 'Consultant Data Engineer' 'Manager Data Management'\n",
      " 'Lead Data Scientist' 'CRM Data Analyst' 'BI Data Analyst'\n",
      " 'Applied Data Scientist' 'Data DevOps Engineer'\n",
      " 'Quantitative Research Analyst' 'Lead Machine Learning Engineer'\n",
      " 'Machine Learning Research Engineer' 'Data Analyst Lead'\n",
      " 'Data Pipeline Engineer' 'Lead Data Analyst' 'Business Data Analyst'\n",
      " 'Marketing Data Scientist' 'Deep Learning Engineer'\n",
      " 'Financial Data Analyst' 'Azure Data Engineer' 'Principal Data Scientist'\n",
      " 'Staff Data Analyst' 'Machine Learning Software Engineer'\n",
      " 'Applied Machine Learning Scientist'\n",
      " 'Principal Machine Learning Engineer' 'Principal Data Engineer'\n",
      " 'Staff Machine Learning Engineer' 'Business Intelligence Data Analyst'\n",
      " 'Finance Data Analyst' 'Software Data Engineer' 'Compliance Data Analyst'\n",
      " 'Cloud Data Engineer' 'Analytics Engineering Manager'\n",
      " 'AWS Data Architect' 'Product Data Analyst' 'Sales Data Analyst'\n",
      " 'Applied Machine Learning Engineer' 'BI Data Engineer'\n",
      " 'Deep Learning Researcher' 'Big Data Architect'\n",
      " 'Computer Vision Software Engineer' 'Marketing Data Engineer'\n",
      " 'Data Science Tech Lead' 'Marketing Data Analyst'\n",
      " 'Principal Data Architect' 'Data Analytics Engineer'\n",
      " 'Cloud Data Architect' 'Principal Data Analyst']\n"
     ]
    }
   ],
   "source": [
    "print(jobs['job_title'].unique())"
   ]
  },
  {
   "cell_type": "markdown",
   "metadata": {},
   "source": [
    "### __Eliminar puestos ejecutivos para disminuir el sesgo de los datos__   \n",
    "  - ***Presentar antes un resumen corto***"
   ]
  },
  {
   "cell_type": "code",
   "execution_count": 172,
   "metadata": {},
   "outputs": [
    {
     "data": {
      "text/plain": [
       "<Axes: xlabel='salary_in_usd', ylabel='experience_level'>"
      ]
     },
     "execution_count": 172,
     "metadata": {},
     "output_type": "execute_result"
    },
    {
     "data": {
      "image/png": "[encoded data removed]",
      "text/plain": [
       "<Figure size 640x480 with 1 Axes>"
      ]
     },
     "metadata": {},
     "output_type": "display_data"
    }
   ],
   "source": [
    "plt.xlim(0, 510000)\n",
    "sns.boxplot(data=jobs, x='salary_in_usd', y='experience_level', hue='experience_level',order=['EN','MI','SE','EX'], palette=['green', 'yellow','orange','red'],saturation=.52, linewidth=1.5 ,legend=False)"
   ]
  },
  {
   "cell_type": "code",
   "execution_count": 173,
   "metadata": {},
   "outputs": [],
   "source": [
    "jobs = jobs[jobs['experience_level'] != 'EX']"
   ]
  },
  {
   "cell_type": "markdown",
   "metadata": {},
   "source": [
    "### **Verificacion de duplicados**"
   ]
  },
  {
   "cell_type": "code",
   "execution_count": 174,
   "metadata": {},
   "outputs": [
    {
     "data": {
      "text/plain": [
       "True     34112\n",
       "False    18711\n",
       "Name: count, dtype: int64"
      ]
     },
     "execution_count": 174,
     "metadata": {},
     "output_type": "execute_result"
    }
   ],
   "source": [
    "jobs.duplicated(keep=False).value_counts()"
   ]
  },
  {
   "cell_type": "code",
   "execution_count": 175,
   "metadata": {},
   "outputs": [
    {
     "data": {
      "text/html": [
       "<div>\n",
       "<style scoped>\n",
       "    .dataframe tbody tr th:only-of-type {\n",
       "        vertical-align: middle;\n",
       "    }\n",
       "\n",
       "    .dataframe tbody tr th {\n",
       "        vertical-align: top;\n",
       "    }\n",
       "\n",
       "    .dataframe thead th {\n",
       "        text-align: right;\n",
       "    }\n",
       "</style>\n",
       "<table border=\"1\" class=\"dataframe\">\n",
       "  <thead>\n",
       "    <tr style=\"text-align: right;\">\n",
       "      <th></th>\n",
       "      <th>work_year</th>\n",
       "      <th>experience_level</th>\n",
       "      <th>employment_type</th>\n",
       "      <th>job_title</th>\n",
       "      <th>salary</th>\n",
       "      <th>salary_currency</th>\n",
       "      <th>salary_in_usd</th>\n",
       "      <th>employee_residence</th>\n",
       "      <th>remote_ratio</th>\n",
       "      <th>company_location</th>\n",
       "      <th>company_size</th>\n",
       "    </tr>\n",
       "  </thead>\n",
       "  <tbody>\n",
       "    <tr>\n",
       "      <th>5</th>\n",
       "      <td>2025</td>\n",
       "      <td>EN</td>\n",
       "      <td>FT</td>\n",
       "      <td>Data Analyst</td>\n",
       "      <td>82000</td>\n",
       "      <td>USD</td>\n",
       "      <td>82000</td>\n",
       "      <td>US</td>\n",
       "      <td>0</td>\n",
       "      <td>US</td>\n",
       "      <td>M</td>\n",
       "    </tr>\n",
       "    <tr>\n",
       "      <th>6</th>\n",
       "      <td>2025</td>\n",
       "      <td>EN</td>\n",
       "      <td>FT</td>\n",
       "      <td>Data Analyst</td>\n",
       "      <td>44000</td>\n",
       "      <td>USD</td>\n",
       "      <td>44000</td>\n",
       "      <td>US</td>\n",
       "      <td>0</td>\n",
       "      <td>US</td>\n",
       "      <td>M</td>\n",
       "    </tr>\n",
       "    <tr>\n",
       "      <th>11</th>\n",
       "      <td>2025</td>\n",
       "      <td>SE</td>\n",
       "      <td>FT</td>\n",
       "      <td>Data Scientist</td>\n",
       "      <td>160000</td>\n",
       "      <td>USD</td>\n",
       "      <td>160000</td>\n",
       "      <td>US</td>\n",
       "      <td>0</td>\n",
       "      <td>US</td>\n",
       "      <td>M</td>\n",
       "    </tr>\n",
       "    <tr>\n",
       "      <th>12</th>\n",
       "      <td>2025</td>\n",
       "      <td>SE</td>\n",
       "      <td>FT</td>\n",
       "      <td>Data Scientist</td>\n",
       "      <td>130000</td>\n",
       "      <td>USD</td>\n",
       "      <td>130000</td>\n",
       "      <td>US</td>\n",
       "      <td>0</td>\n",
       "      <td>US</td>\n",
       "      <td>M</td>\n",
       "    </tr>\n",
       "    <tr>\n",
       "      <th>17</th>\n",
       "      <td>2025</td>\n",
       "      <td>MI</td>\n",
       "      <td>FT</td>\n",
       "      <td>AI Data Scientist</td>\n",
       "      <td>200000</td>\n",
       "      <td>USD</td>\n",
       "      <td>200000</td>\n",
       "      <td>US</td>\n",
       "      <td>100</td>\n",
       "      <td>US</td>\n",
       "      <td>S</td>\n",
       "    </tr>\n",
       "    <tr>\n",
       "      <th>...</th>\n",
       "      <td>...</td>\n",
       "      <td>...</td>\n",
       "      <td>...</td>\n",
       "      <td>...</td>\n",
       "      <td>...</td>\n",
       "      <td>...</td>\n",
       "      <td>...</td>\n",
       "      <td>...</td>\n",
       "      <td>...</td>\n",
       "      <td>...</td>\n",
       "      <td>...</td>\n",
       "    </tr>\n",
       "    <tr>\n",
       "      <th>88426</th>\n",
       "      <td>2021</td>\n",
       "      <td>MI</td>\n",
       "      <td>FT</td>\n",
       "      <td>Data Engineer</td>\n",
       "      <td>200000</td>\n",
       "      <td>USD</td>\n",
       "      <td>200000</td>\n",
       "      <td>US</td>\n",
       "      <td>100</td>\n",
       "      <td>US</td>\n",
       "      <td>L</td>\n",
       "    </tr>\n",
       "    <tr>\n",
       "      <th>88431</th>\n",
       "      <td>2021</td>\n",
       "      <td>EN</td>\n",
       "      <td>FT</td>\n",
       "      <td>Data Scientist</td>\n",
       "      <td>90000</td>\n",
       "      <td>USD</td>\n",
       "      <td>90000</td>\n",
       "      <td>US</td>\n",
       "      <td>100</td>\n",
       "      <td>US</td>\n",
       "      <td>S</td>\n",
       "    </tr>\n",
       "    <tr>\n",
       "      <th>88502</th>\n",
       "      <td>2021</td>\n",
       "      <td>MI</td>\n",
       "      <td>FT</td>\n",
       "      <td>Data Scientist</td>\n",
       "      <td>76760</td>\n",
       "      <td>EUR</td>\n",
       "      <td>90734</td>\n",
       "      <td>DE</td>\n",
       "      <td>50</td>\n",
       "      <td>DE</td>\n",
       "      <td>L</td>\n",
       "    </tr>\n",
       "    <tr>\n",
       "      <th>88506</th>\n",
       "      <td>2021</td>\n",
       "      <td>EN</td>\n",
       "      <td>FT</td>\n",
       "      <td>Data Scientist</td>\n",
       "      <td>90000</td>\n",
       "      <td>USD</td>\n",
       "      <td>90000</td>\n",
       "      <td>US</td>\n",
       "      <td>100</td>\n",
       "      <td>US</td>\n",
       "      <td>S</td>\n",
       "    </tr>\n",
       "    <tr>\n",
       "      <th>88540</th>\n",
       "      <td>2021</td>\n",
       "      <td>MI</td>\n",
       "      <td>FT</td>\n",
       "      <td>Data Scientist</td>\n",
       "      <td>76760</td>\n",
       "      <td>EUR</td>\n",
       "      <td>90734</td>\n",
       "      <td>DE</td>\n",
       "      <td>50</td>\n",
       "      <td>DE</td>\n",
       "      <td>L</td>\n",
       "    </tr>\n",
       "  </tbody>\n",
       "</table>\n",
       "<p>34112 rows × 11 columns</p>\n",
       "</div>"
      ],
      "text/plain": [
       "       work_year experience_level employment_type          job_title  salary  \\\n",
       "5           2025               EN              FT       Data Analyst   82000   \n",
       "6           2025               EN              FT       Data Analyst   44000   \n",
       "11          2025               SE              FT     Data Scientist  160000   \n",
       "12          2025               SE              FT     Data Scientist  130000   \n",
       "17          2025               MI              FT  AI Data Scientist  200000   \n",
       "...          ...              ...             ...                ...     ...   \n",
       "88426       2021               MI              FT      Data Engineer  200000   \n",
       "88431       2021               EN              FT     Data Scientist   90000   \n",
       "88502       2021               MI              FT     Data Scientist   76760   \n",
       "88506       2021               EN              FT     Data Scientist   90000   \n",
       "88540       2021               MI              FT     Data Scientist   76760   \n",
       "\n",
       "      salary_currency  salary_in_usd employee_residence  remote_ratio  \\\n",
       "5                 USD          82000                 US             0   \n",
       "6                 USD          44000                 US             0   \n",
       "11                USD         160000                 US             0   \n",
       "12                USD         130000                 US             0   \n",
       "17                USD         200000                 US           100   \n",
       "...               ...            ...                ...           ...   \n",
       "88426             USD         200000                 US           100   \n",
       "88431             USD          90000                 US           100   \n",
       "88502             EUR          90734                 DE            50   \n",
       "88506             USD          90000                 US           100   \n",
       "88540             EUR          90734                 DE            50   \n",
       "\n",
       "      company_location company_size  \n",
       "5                   US            M  \n",
       "6                   US            M  \n",
       "11                  US            M  \n",
       "12                  US            M  \n",
       "17                  US            S  \n",
       "...                ...          ...  \n",
       "88426               US            L  \n",
       "88431               US            S  \n",
       "88502               DE            L  \n",
       "88506               US            S  \n",
       "88540               DE            L  \n",
       "\n",
       "[34112 rows x 11 columns]"
      ]
     },
     "execution_count": 175,
     "metadata": {},
     "output_type": "execute_result"
    }
   ],
   "source": [
    "jobs[(jobs.duplicated(keep=False)) == True]"
   ]
  },
  {
   "cell_type": "markdown",
   "metadata": {},
   "source": [
    "***Se llega a al conclusion de que pueden haber trabajos que compartan los mismos datos por lo tanto, al no haber indicio de haber creado duplicados en modifiaciones anteriores, se mantiene el DataSet tal cual esta***"
   ]
  },
  {
   "cell_type": "markdown",
   "metadata": {},
   "source": [
    "### **Nuevos datos y transformaciones**"
   ]
  },
  {
   "cell_type": "markdown",
   "metadata": {},
   "source": [
    "***Nada por ahora***"
   ]
  },
  {
   "cell_type": "markdown",
   "metadata": {},
   "source": [
    "## **Data ANALYSIS**"
   ]
  },
  {
   "cell_type": "code",
   "execution_count": null,
   "metadata": {},
   "outputs": [],
   "source": []
  }
 ],
 "metadata": {
  "kernelspec": {
   "display_name": "Python 3",
   "language": "python",
   "name": "python3"
  },
  "language_info": {
   "codemirror_mode": {
    "name": "ipython",
    "version": 3
   },
   "file_extension": ".py",
   "mimetype": "text/x-python",
   "name": "python",
   "nbconvert_exporter": "python",
   "pygments_lexer": "ipython3",
   "version": "3.13.1"
  }
 },
 "nbformat": 4,
 "nbformat_minor": 2
}
