{
 "cells": [
  {
   "cell_type": "markdown",
   "metadata": {},
   "source": [
    "# **Analisis de Empleabilidad y Salarios del Sector de IT/DATA 2020-2025**"
   ]
  },
  {
   "cell_type": "markdown",
   "metadata": {},
   "source": [
    "<image src=\"img/dataset-cover.jpg\">\n",
    "\n",
    "_____"
   ]
  },
  {
   "cell_type": "markdown",
   "metadata": {},
   "source": [
    "### **TEMA**"
   ]
  },
  {
   "cell_type": "markdown",
   "metadata": {},
   "source": [
    "Este proyecto se centra en realizar un Análisis Exploratorio de Datos (EDA) para descubrir datos de interes, patrones y tendencias en las ofertas de trabajo realacionadas con los datos recojidas en el DataSet.\n",
    "El objetivo es comprender las necesidades y puntos fuertes del sector para asi resolver dudas de trabajadores y sobre todo de estudiantes siendo asi un factor de cierre en ventas de cursos al resolver un numero de dudas con respecto al sector."
   ]
  },
  {
   "cell_type": "markdown",
   "metadata": {},
   "source": [
    "### **HIPOTESIS**"
   ]
  },
  {
   "cell_type": "markdown",
   "metadata": {},
   "source": [
    "- La demanda de empleos relacionados con los datos a aumentado en los ultimos años y muestra indicios de seguir aumentando\n",
    "- Los salarios tienden a superar la mediana de la poblacion. Alrededor de que porciento de la poblacion (percentiles) se encuentran los salarios?\n",
    "- En el sector se aprecia un alto inidice de empleos remotos o hibridos que va en aumento con el paso de los años\n",
    "- Estados unidos se corona como el pais donde mas demanda del sector hay. En Europa la mayoria de empleos se encontraran en paises como Inglaterra y Alemania, y España estara entre los 10 primeros\n",
    "- Las empresas grandes no son necesariamente las que mejor pagan. Cual es la relacion entre la experiencia de trabajo y la demanda de esta segun el tamaño de la empresa?. A que tipo de empresa es mas coveniente ir segun la experiencia en el sector?"
   ]
  },
  {
   "cell_type": "markdown",
   "metadata": {},
   "source": [
    "### **OBTENCION DE LOS DATOS**"
   ]
  },
  {
   "cell_type": "markdown",
   "metadata": {},
   "source": [
    "**DATASETS Y FUENTES DE DATOS**"
   ]
  },
  {
   "cell_type": "code",
   "execution_count": null,
   "metadata": {},
   "outputs": [],
   "source": [
    "import pandas as pd"
   ]
  },
  {
   "cell_type": "markdown",
   "metadata": {},
   "source": [
    "__FUENTES__   \n",
    "- Kaggle: The AI, ML, Data Science Salary (2020- 2025) DataSet - [ [Link](https://www.kaggle.com/datasets/samithsachidanandan/the-global-ai-ml-data-science-salary-for-2025) ]\n",
    "- stack***overflow*** : 2024 Developer Survey - [ [Link](https://survey.stackoverflow.co/2024/work/) ]\n",
    "- Manfred : Tech Career Report - $alarios - [ [Link](https://www.getmanfred.com/blog/tech-career-report-alarios) ]"
   ]
  },
  {
   "cell_type": "markdown",
   "metadata": {},
   "source": [
    "__Muestra de las primeras 10 entradas del DataSet__   "
   ]
  },
  {
   "cell_type": "code",
   "execution_count": 3,
   "metadata": {},
   "outputs": [
    {
     "data": {
      "text/html": [
       "<div>\n",
       "<style scoped>\n",
       "    .dataframe tbody tr th:only-of-type {\n",
       "        vertical-align: middle;\n",
       "    }\n",
       "\n",
       "    .dataframe tbody tr th {\n",
       "        vertical-align: top;\n",
       "    }\n",
       "\n",
       "    .dataframe thead th {\n",
       "        text-align: right;\n",
       "    }\n",
       "</style>\n",
       "<table border=\"1\" class=\"dataframe\">\n",
       "  <thead>\n",
       "    <tr style=\"text-align: right;\">\n",
       "      <th></th>\n",
       "      <th>work_year</th>\n",
       "      <th>experience_level</th>\n",
       "      <th>employment_type</th>\n",
       "      <th>job_title</th>\n",
       "      <th>salary</th>\n",
       "      <th>salary_currency</th>\n",
       "      <th>salary_in_usd</th>\n",
       "      <th>employee_residence</th>\n",
       "      <th>remote_ratio</th>\n",
       "      <th>company_location</th>\n",
       "      <th>company_size</th>\n",
       "    </tr>\n",
       "  </thead>\n",
       "  <tbody>\n",
       "    <tr>\n",
       "      <th>0</th>\n",
       "      <td>2025</td>\n",
       "      <td>MI</td>\n",
       "      <td>FT</td>\n",
       "      <td>Customer Success Manager</td>\n",
       "      <td>57000</td>\n",
       "      <td>EUR</td>\n",
       "      <td>60000</td>\n",
       "      <td>NL</td>\n",
       "      <td>50</td>\n",
       "      <td>NL</td>\n",
       "      <td>L</td>\n",
       "    </tr>\n",
       "    <tr>\n",
       "      <th>1</th>\n",
       "      <td>2025</td>\n",
       "      <td>SE</td>\n",
       "      <td>FT</td>\n",
       "      <td>Engineer</td>\n",
       "      <td>165000</td>\n",
       "      <td>USD</td>\n",
       "      <td>165000</td>\n",
       "      <td>US</td>\n",
       "      <td>0</td>\n",
       "      <td>US</td>\n",
       "      <td>M</td>\n",
       "    </tr>\n",
       "    <tr>\n",
       "      <th>2</th>\n",
       "      <td>2025</td>\n",
       "      <td>SE</td>\n",
       "      <td>FT</td>\n",
       "      <td>Engineer</td>\n",
       "      <td>109000</td>\n",
       "      <td>USD</td>\n",
       "      <td>109000</td>\n",
       "      <td>US</td>\n",
       "      <td>0</td>\n",
       "      <td>US</td>\n",
       "      <td>M</td>\n",
       "    </tr>\n",
       "    <tr>\n",
       "      <th>3</th>\n",
       "      <td>2025</td>\n",
       "      <td>SE</td>\n",
       "      <td>FT</td>\n",
       "      <td>Applied Scientist</td>\n",
       "      <td>294000</td>\n",
       "      <td>USD</td>\n",
       "      <td>294000</td>\n",
       "      <td>US</td>\n",
       "      <td>0</td>\n",
       "      <td>US</td>\n",
       "      <td>M</td>\n",
       "    </tr>\n",
       "    <tr>\n",
       "      <th>4</th>\n",
       "      <td>2025</td>\n",
       "      <td>SE</td>\n",
       "      <td>FT</td>\n",
       "      <td>Applied Scientist</td>\n",
       "      <td>137600</td>\n",
       "      <td>USD</td>\n",
       "      <td>137600</td>\n",
       "      <td>US</td>\n",
       "      <td>0</td>\n",
       "      <td>US</td>\n",
       "      <td>M</td>\n",
       "    </tr>\n",
       "    <tr>\n",
       "      <th>5</th>\n",
       "      <td>2025</td>\n",
       "      <td>EN</td>\n",
       "      <td>FT</td>\n",
       "      <td>Data Analyst</td>\n",
       "      <td>82000</td>\n",
       "      <td>USD</td>\n",
       "      <td>82000</td>\n",
       "      <td>US</td>\n",
       "      <td>0</td>\n",
       "      <td>US</td>\n",
       "      <td>M</td>\n",
       "    </tr>\n",
       "    <tr>\n",
       "      <th>6</th>\n",
       "      <td>2025</td>\n",
       "      <td>EN</td>\n",
       "      <td>FT</td>\n",
       "      <td>Data Analyst</td>\n",
       "      <td>44000</td>\n",
       "      <td>USD</td>\n",
       "      <td>44000</td>\n",
       "      <td>US</td>\n",
       "      <td>0</td>\n",
       "      <td>US</td>\n",
       "      <td>M</td>\n",
       "    </tr>\n",
       "    <tr>\n",
       "      <th>7</th>\n",
       "      <td>2025</td>\n",
       "      <td>SE</td>\n",
       "      <td>FT</td>\n",
       "      <td>Software Development Engineer</td>\n",
       "      <td>149800</td>\n",
       "      <td>USD</td>\n",
       "      <td>149800</td>\n",
       "      <td>US</td>\n",
       "      <td>0</td>\n",
       "      <td>US</td>\n",
       "      <td>L</td>\n",
       "    </tr>\n",
       "    <tr>\n",
       "      <th>8</th>\n",
       "      <td>2025</td>\n",
       "      <td>SE</td>\n",
       "      <td>FT</td>\n",
       "      <td>Software Development Engineer</td>\n",
       "      <td>89700</td>\n",
       "      <td>USD</td>\n",
       "      <td>89700</td>\n",
       "      <td>US</td>\n",
       "      <td>0</td>\n",
       "      <td>US</td>\n",
       "      <td>L</td>\n",
       "    </tr>\n",
       "    <tr>\n",
       "      <th>9</th>\n",
       "      <td>2025</td>\n",
       "      <td>SE</td>\n",
       "      <td>FT</td>\n",
       "      <td>Research Scientist</td>\n",
       "      <td>200000</td>\n",
       "      <td>USD</td>\n",
       "      <td>200000</td>\n",
       "      <td>US</td>\n",
       "      <td>0</td>\n",
       "      <td>US</td>\n",
       "      <td>M</td>\n",
       "    </tr>\n",
       "  </tbody>\n",
       "</table>\n",
       "</div>"
      ],
      "text/plain": [
       "   work_year experience_level employment_type                      job_title  \\\n",
       "0       2025               MI              FT       Customer Success Manager   \n",
       "1       2025               SE              FT                       Engineer   \n",
       "2       2025               SE              FT                       Engineer   \n",
       "3       2025               SE              FT              Applied Scientist   \n",
       "4       2025               SE              FT              Applied Scientist   \n",
       "5       2025               EN              FT                   Data Analyst   \n",
       "6       2025               EN              FT                   Data Analyst   \n",
       "7       2025               SE              FT  Software Development Engineer   \n",
       "8       2025               SE              FT  Software Development Engineer   \n",
       "9       2025               SE              FT             Research Scientist   \n",
       "\n",
       "   salary salary_currency  salary_in_usd employee_residence  remote_ratio  \\\n",
       "0   57000             EUR          60000                 NL            50   \n",
       "1  165000             USD         165000                 US             0   \n",
       "2  109000             USD         109000                 US             0   \n",
       "3  294000             USD         294000                 US             0   \n",
       "4  137600             USD         137600                 US             0   \n",
       "5   82000             USD          82000                 US             0   \n",
       "6   44000             USD          44000                 US             0   \n",
       "7  149800             USD         149800                 US             0   \n",
       "8   89700             USD          89700                 US             0   \n",
       "9  200000             USD         200000                 US             0   \n",
       "\n",
       "  company_location company_size  \n",
       "0               NL            L  \n",
       "1               US            M  \n",
       "2               US            M  \n",
       "3               US            M  \n",
       "4               US            M  \n",
       "5               US            M  \n",
       "6               US            M  \n",
       "7               US            L  \n",
       "8               US            L  \n",
       "9               US            M  "
      ]
     },
     "execution_count": 3,
     "metadata": {},
     "output_type": "execute_result"
    }
   ],
   "source": [
    "jobs = pd.read_csv('./data/salaries.csv')\n",
    "jobs.head(10)"
   ]
  },
  {
   "cell_type": "markdown",
   "metadata": {},
   "source": []
  }
 ],
 "metadata": {
  "kernelspec": {
   "display_name": "Python 3",
   "language": "python",
   "name": "python3"
  },
  "language_info": {
   "codemirror_mode": {
    "name": "ipython",
    "version": 3
   },
   "file_extension": ".py",
   "mimetype": "text/x-python",
   "name": "python",
   "nbconvert_exporter": "python",
   "pygments_lexer": "ipython3",
   "version": "3.13.1"
  }
 },
 "nbformat": 4,
 "nbformat_minor": 2
}
